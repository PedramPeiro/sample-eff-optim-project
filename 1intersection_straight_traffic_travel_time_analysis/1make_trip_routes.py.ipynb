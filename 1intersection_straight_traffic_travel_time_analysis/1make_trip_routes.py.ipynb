{
 "cells": [
  {
   "cell_type": "markdown",
   "metadata": {},
   "source": [
    "The goal of the notebook is to create the SUMO input route files of different number of vehicles "
   ]
  },
  {
   "cell_type": "code",
   "execution_count": 2,
   "metadata": {},
   "outputs": [],
   "source": [
    "import numpy as np\n",
    "import os"
   ]
  },
  {
   "cell_type": "code",
   "execution_count": 3,
   "metadata": {},
   "outputs": [],
   "source": [
    "#possible routes, stright only, no turns\n",
    "edges=np.array(['01 12','31 14','21 10','41 13'])\n"
   ]
  },
  {
   "cell_type": "code",
   "execution_count": 4,
   "metadata": {},
   "outputs": [],
   "source": [
    "#the outer loop for variation of the number of vehicles (e.g. in range 100-500, step 100)\n",
    "for numVeh in range(1000,1100,100):\n",
    "    \n",
    "    #make new folder for the new green time\n",
    "    new_dir=f'./data/{numVeh}vehicles'\n",
    "    os.makedirs(new_dir,exist_ok=True)\n",
    "    \n",
    "    #write to routes file for the number of vehicles \n",
    "    with open(f\"data/{numVeh}vehicles/routetrips{numVeh}.rou.xml\",\"w\") as file:\n",
    "        file.write(\"<routes xmlns:xsi=\\\"http://www.w3.org/2001/XMLSchema-instance\\\" xsi:noNamespaceSchemaLocation=\\\"http://sumo.dlr.de/xsd/routes_file.xsd\\\">\")\n",
    "        for i in range(1,numVeh,1):#create vehicle routes\n",
    "        #add vehicles with routes\n",
    "            edges_i=edges[i%len(edges)] #select from edges\n",
    "            file.write(\"    <vehicle id=\\\"\"+str(i)+\"\\\" depart=\\\"\"+str(i)+\"\\\">  <route edges=\\\"\"+str(edges_i)+\"\\\"/>  </vehicle>\")\n",
    "    \n",
    "        file.write(\"</routes>\")\n",
    "\n"
   ]
  },
  {
   "cell_type": "code",
   "execution_count": null,
   "metadata": {},
   "outputs": [],
   "source": []
  },
  {
   "cell_type": "code",
   "execution_count": null,
   "metadata": {},
   "outputs": [],
   "source": []
  }
 ],
 "metadata": {
  "kernelspec": {
   "display_name": "Python 3 (ipykernel)",
   "language": "python",
   "name": "python3"
  },
  "language_info": {
   "codemirror_mode": {
    "name": "ipython",
    "version": 3
   },
   "file_extension": ".py",
   "mimetype": "text/x-python",
   "name": "python",
   "nbconvert_exporter": "python",
   "pygments_lexer": "ipython3",
   "version": "3.12.4"
  }
 },
 "nbformat": 4,
 "nbformat_minor": 4
}
