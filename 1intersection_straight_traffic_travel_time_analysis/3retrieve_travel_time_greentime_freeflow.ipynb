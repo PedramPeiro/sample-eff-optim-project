{
 "cells": [
  {
   "cell_type": "markdown",
   "metadata": {},
   "source": [
    "As the name suggests, this notebook retrives the average edge travel time from all the SUMO simulations of different number of vehicles and travel times for analysis purpose. The outer loop for the number of vehicles and inner loops for green time and speed limit (to get the freeflow_travel_time). \n",
    "\n",
    "The edge_prob capability of SUMO is the source of the output and the edge travel time is averaged across every 60 seconds of the experiement excluding the first 60 seconds and when there is no traffic anymore. "
   ]
  },
  {
   "cell_type": "code",
   "execution_count": 3,
   "metadata": {},
   "outputs": [],
   "source": [
    "import xml.etree.ElementTree as ET\n",
    "import csv\n",
    "import os\n",
    "import pandas as pd\n",
    "\n",
    "\n",
    "length=992.80"
   ]
  },
  {
   "cell_type": "code",
   "execution_count": null,
   "metadata": {},
   "outputs": [],
   "source": [
    "for numVeh in range(1000,1001,100):\n",
    "    \n",
    "    summary_all_travel_times=pd.DataFrame()\n",
    "    \n",
    "    #make new directory for output /output_mean_travel_time\n",
    "    new_dir=f'./data/{numVeh}vehicles/output_mean_travel_time'\n",
    "    os.makedirs(new_dir,exist_ok=True)\n",
    "    \n",
    "    \n",
    "    for green_time in range(20,61,1): #20-60\n",
    "        \n",
    "        for speed_limit in range(10,51,1): #10-50\n",
    "\n",
    "            freeflow_travel_time=length/speed_limit\n",
    "        \n",
    "            # Load and parse the XML file\n",
    "            file_path=f'data/{numVeh}vehicles/green{green_time}s/freeflow{freeflow_travel_time}s/fcd_output.xml'\n",
    "            # Parse the XML file\n",
    "            tree = ET.parse(file_path)\n",
    "            root = tree.getroot()\n",
    "            \n",
    "            # Initialize a dictionary to store the time spent on each lane by each vehicle\n",
    "            vehicle_lane_times = {}\n",
    "            \n",
    "            # Iterate over each timestep in the XML\n",
    "            for timestep in root.findall('timestep'):\n",
    "                time = float(timestep.get('time'))\n",
    "                for vehicle in timestep.findall('vehicle'):\n",
    "                    vehicle_id = vehicle.get('id')\n",
    "                    lane_id = vehicle.get('lane')\n",
    "                    \n",
    "                    if vehicle_id not in vehicle_lane_times:\n",
    "                        vehicle_lane_times[vehicle_id] = {}\n",
    "                    if lane_id not in vehicle_lane_times[vehicle_id]:\n",
    "                        vehicle_lane_times[vehicle_id][lane_id] = 0\n",
    "                    \n",
    "                    vehicle_lane_times[vehicle_id][lane_id] += 1  # Assuming each timestep is 1 second\n",
    "            \n",
    "            # Convert the dictionary to a DataFrame\n",
    "            data = []\n",
    "            for vehicle_id, lanes in vehicle_lane_times.items():\n",
    "                for lane_id, time_spent in lanes.items():\n",
    "                    data.append([vehicle_id, lane_id, time_spent])\n",
    "            \n",
    "            df = pd.DataFrame(data, columns=['Vehicle_ID', 'Lane_ID', 'Time_Spent'])\n",
    "    \n",
    "            # Filter out rows where Lane_ID starts with \":\"\n",
    "            filtered_df = df[~df['Lane_ID'].str.startswith(':')]\n",
    "            \n",
    "            # Calculate the average time spent on each Lane_ID, averaged over the number of vehicles on the lanes\n",
    "            average_time_travel = filtered_df.groupby('Lane_ID').apply(lambda x: x['Time_Spent'].sum() / x['Vehicle_ID'].nunique()).reset_index()\n",
    "            \n",
    "            # Rename the columns for clarity\n",
    "            average_time_travel.columns = ['edge_id', 'average_traveltime']\n",
    "\n",
    "            #adding the green time and freeflow_travel_time\n",
    "            average_time_travel['green_time']=green_time\n",
    "    \n",
    "            average_time_travel['freeflow_travel_time']=freeflow_travel_time\n",
    "    \n",
    "            summary_all_travel_times=pd.concat([summary_all_travel_times,average_time_travel],ignore_index=True)\n",
    "        \n",
    "        \n",
    "    \n",
    "        \n",
    "    \n",
    "    print(f\"number of vehicle  = {numVeh}, summary_all_travel_times\")\n",
    "    \n",
    "    print(summary_all_travel_times)\n",
    "    \n",
    "    #save summary as csv with all travel times of different green times \n",
    "    summary_all_travel_times.to_csv(f'./data/{numVeh}vehicles/output_mean_travel_time/{numVeh}cars_summary_mean_travel_time.csv',index=False)"
   ]
  },
  {
   "cell_type": "code",
   "execution_count": null,
   "metadata": {},
   "outputs": [],
   "source": []
  }
 ],
 "metadata": {
  "kernelspec": {
   "display_name": "Python 3 (ipykernel)",
   "language": "python",
   "name": "python3"
  },
  "language_info": {
   "codemirror_mode": {
    "name": "ipython",
    "version": 3
   },
   "file_extension": ".py",
   "mimetype": "text/x-python",
   "name": "python",
   "nbconvert_exporter": "python",
   "pygments_lexer": "ipython3",
   "version": "3.12.4"
  }
 },
 "nbformat": 4,
 "nbformat_minor": 4
}
