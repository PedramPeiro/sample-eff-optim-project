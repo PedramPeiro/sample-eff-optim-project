{
 "cells": [
  {
   "cell_type": "code",
   "execution_count": null,
   "id": "ad628283-589a-4683-b4da-393a4a80cb7b",
   "metadata": {},
   "outputs": [],
   "source": [
    "import numpy as np\n",
    "\n",
    "#edges for 3 intersections network\n",
    "edges=np.array([\n",
    "'12 26','12 29','12 23 37','12 23 310','12 23 34 48','12 23 34 411','12 23 34 45',\n",
    "'62 29','62 21','62 23 37','62 23 310','62 23 34 48','62 23 34 411','62 23 34 45',\n",
    "'92 21','92 26','92 23 37','92 23 310','92 23 34 48','92 23 34 411','92 23 34 45',\n",
    "'73 310','73 32 26','73 32 29','73 32 21','73 34 48','73 34 411','73 34 45',\n",
    "'103 37','103 32 26','103 32 29','103 32 21','103 34 48','103 34 411','103 34 45',\n",
    "'84 45','84 411','84 43 37','84 43 310','84 43 32 26','84 43 32 29','84 43 32 21',\n",
    "'114 45','114 48','114 43 37','114 43 310','114 43 32 26','114 43 32 29','114 43 32 21',\n",
    "'54 48','54 411','54 43 37','54 43 310','54 43 32 26','54 43 32 29','54 43 32 21'\n",
    "])\n",
    "\n",
    "\n",
    "with open(\"../routes.rou.xml\",\"w\") as file:\n",
    "    file.write(\"<routes xmlns:xsi=\\\"http://www.w3.org/2001/XMLSchema-instance\\\" xsi:noNamespaceSchemaLocation=\\\"http://sumo.dlr.de/xsd/routes_file.xsd\\\">\")\n",
    "    random.seed(1)\n",
    "    for i in range(1,300,1):#create vehicle routes\n",
    "    #add vehicles with routes\n",
    "        edges_i=edges[random.randint(0,len(edges)-1)] #select from edges\n",
    "        file.write(\"    <vehicle id=\\\"\"+str(i)+\"\\\" depart=\\\"\"+str(3*i)+\"\\\">  <route edges=\\\"\"+str(edges_i)+\"\\\"/>  </vehicle>\")\n",
    "\n",
    "    file.write(\"</routes>\")\n"
   ]
  }
 ],
 "metadata": {
  "kernelspec": {
   "display_name": "Python 3 (ipykernel)",
   "language": "python",
   "name": "python3"
  },
  "language_info": {
   "codemirror_mode": {
    "name": "ipython",
    "version": 3
   },
   "file_extension": ".py",
   "mimetype": "text/x-python",
   "name": "python",
   "nbconvert_exporter": "python",
   "pygments_lexer": "ipython3",
   "version": "3.11.9"
  }
 },
 "nbformat": 4,
 "nbformat_minor": 5
}
