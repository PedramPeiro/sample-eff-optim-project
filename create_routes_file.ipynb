{
 "cells": [
  {
   "cell_type": "markdown",
   "id": "38479e0d-5765-44ae-bb24-37c09bb70634",
   "metadata": {},
   "source": [
    "create the .rou.xml file for both ground truth and bayesian simulation"
   ]
  },
  {
   "cell_type": "code",
   "execution_count": 1,
   "id": "ad628283-589a-4683-b4da-393a4a80cb7b",
   "metadata": {},
   "outputs": [],
   "source": [
    "import numpy as np\n",
    "import random \n",
    "\n",
    "#edges routes without turns,only straight\n",
    "edges=np.array(['12 23 34 45','62 29','73 310','84 411','54 43 32 21','92 26','103 37','114 48'])\n",
    "\n",
    "\n",
    "with open(\"routes.rou.xml\",\"w\") as file:\n",
    "    file.write(\"<routes xmlns:xsi=\\\"http://www.w3.org/2001/XMLSchema-instance\\\" xsi:noNamespaceSchemaLocation=\\\"http://sumo.dlr.de/xsd/routes_file.xsd\\\">\")\n",
    "    random.seed(1)\n",
    "    for i in range(1,500,1):#create vehicle routes\n",
    "    #add vehicles with routes\n",
    "        edges_i=edges[i%len(edges)] #select from edges\n",
    "        #edges_i=edges[random.randint(0,len(edges)-1)] #select from edges\n",
    "        file.write(\"    <vehicle id=\\\"\"+str(i)+\"\\\" depart=\\\"\"+str(i)+\"\\\">  <route edges=\\\"\"+str(edges_i)+\"\\\"/>  </vehicle>\")\n",
    "\n",
    "    file.write(\"</routes>\")\n"
   ]
  },
  {
   "cell_type": "code",
   "execution_count": null,
   "id": "dc1573db-ab7c-4f71-ab68-0df3ddf943fe",
   "metadata": {},
   "outputs": [],
   "source": []
  }
 ],
 "metadata": {
  "kernelspec": {
   "display_name": "Python 3 (ipykernel)",
   "language": "python",
   "name": "python3"
  },
  "language_info": {
   "codemirror_mode": {
    "name": "ipython",
    "version": 3
   },
   "file_extension": ".py",
   "mimetype": "text/x-python",
   "name": "python",
   "nbconvert_exporter": "python",
   "pygments_lexer": "ipython3",
   "version": "3.12.4"
  }
 },
 "nbformat": 4,
 "nbformat_minor": 5
}
